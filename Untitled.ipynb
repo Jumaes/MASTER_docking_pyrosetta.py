{
 "cells": [
  {
   "cell_type": "code",
   "execution_count": 1,
   "metadata": {},
   "outputs": [],
   "source": [
    "input_pdb = ''  #File with input conformation of the minimized structural motifs.\n",
    "number_of_conformations = 10000 #Number of different conformations that should be generated and tested. This will be crucial to determine how long it will take.\n",
    "\n",
    "#Note: For the moment the axes and angles will just be applied to the jump and they are most likely not global x,y,z coordinates or angles, but might be local. If control over axes/angles is desired, might need to be taken care off later.\n",
    "# If a DF should not be designable, just put 0.\n",
    "dev_x_translate = 4 #Total translation in x axis in A. Together with number_of_conformations this will also determine the stepsize for this DF. 4 means 2A in each direction from starting conformation.\n",
    "dev_y_translate = 4\n",
    "dev_z_translate = 4\n",
    "\n",
    "dev_alpha_rotate = 10 # Similar to translate, just this is the total angle in degree to be screened for this DF.\n",
    "dev_beta_rotate = 10\n",
    "dev_gamma_rotate = 10\n"
   ]
  },
  {
   "cell_type": "code",
   "execution_count": 4,
   "metadata": {},
   "outputs": [],
   "source": [
    "designable_DF = 0\n",
    "for a in [dev_x_translate,dev_y_translate,dev_z_translate,dev_alpha_rotate,dev_beta_rotate,dev_gamma_rotate]:\n",
    "    if a != 0: designable_DF += 1 # Just counts how many DF are supposed to be designable."
   ]
  },
  {
   "cell_type": "code",
   "execution_count": 5,
   "metadata": {},
   "outputs": [
    {
     "data": {
      "text/plain": [
       "6"
      ]
     },
     "execution_count": 5,
     "metadata": {},
     "output_type": "execute_result"
    }
   ],
   "source": [
    "designable_DF"
   ]
  },
  {
   "cell_type": "code",
   "execution_count": 12,
   "metadata": {},
   "outputs": [],
   "source": [
    "import math\n",
    "steps_per_DF = int(math.floor(number_of_conformations ** (1. /designable_DF)))"
   ]
  },
  {
   "cell_type": "code",
   "execution_count": 13,
   "metadata": {},
   "outputs": [
    {
     "data": {
      "text/plain": [
       "4"
      ]
     },
     "execution_count": 13,
     "metadata": {},
     "output_type": "execute_result"
    }
   ],
   "source": [
    "steps_per_DF"
   ]
  },
  {
   "cell_type": "code",
   "execution_count": 10,
   "metadata": {},
   "outputs": [
    {
     "data": {
      "text/plain": [
       "15625"
      ]
     },
     "execution_count": 10,
     "metadata": {},
     "output_type": "execute_result"
    }
   ],
   "source": [
    "5**6"
   ]
  },
  {
   "cell_type": "code",
   "execution_count": 16,
   "metadata": {},
   "outputs": [
    {
     "name": "stdout",
     "output_type": "stream",
     "text": [
      "Requested 10000 conformations to be checked using 6 degrees of freedom. 4 steps per degree of freedom can be checked giving a total of 4096 conformations. With 5 steps per DF, 15625 conformations would need to be checked.\n"
     ]
    }
   ],
   "source": [
    "\n",
    "steps_per_DF = int(math.floor(input_number_of_conformations ** (1. /designable_DF))) # This basically takes the root to the power of designable_DF and then returns the integer always rounding down to see with the given number_of_conformations, how many steps can be done per DF.\n",
    "\n",
    "number_of_conformations = steps_per_DF ** designable_DF\n",
    "\n",
    "print ('Requested %s conformations to be checked using %s degrees of freedom. %s steps per degree of freedom can be checked giving a total of %s conformations. With %s steps per DF, %s conformations would need to be checked.' %(input_number_of_conformations, designable_DF,steps_per_DF, number_of_conformations,steps_per_DF+1,(steps_per_DF+1) ** designable_DF ))\n"
   ]
  },
  {
   "cell_type": "code",
   "execution_count": 15,
   "metadata": {},
   "outputs": [],
   "source": [
    "input_number_of_conformations = 10000"
   ]
  },
  {
   "cell_type": "code",
   "execution_count": null,
   "metadata": {},
   "outputs": [],
   "source": []
  }
 ],
 "metadata": {
  "kernelspec": {
   "display_name": "Python 3",
   "language": "python",
   "name": "python3"
  },
  "language_info": {
   "codemirror_mode": {
    "name": "ipython",
    "version": 3
   },
   "file_extension": ".py",
   "mimetype": "text/x-python",
   "name": "python",
   "nbconvert_exporter": "python",
   "pygments_lexer": "ipython3",
   "version": "3.7.4"
  }
 },
 "nbformat": 4,
 "nbformat_minor": 2
}
